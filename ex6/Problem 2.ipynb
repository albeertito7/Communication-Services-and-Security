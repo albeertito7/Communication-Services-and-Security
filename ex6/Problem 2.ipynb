{
 "cells": [
  {
   "cell_type": "markdown",
   "id": "mathematical-preparation",
   "metadata": {},
   "source": [
    "# Exercise 6. ICT Project: Communication Services and Security\n",
    "### Cèsar Fernàndez Camón\n",
    "\n",
    "#### Authors:\n",
    "- Albert Pérez Datsira\n",
    "\n",
    "\n",
    "## Problem 2\n",
    "Let’s assume a CCMP (Cipher Block Chaining Message) with 8 bits length block. The counter blocks are computed\n",
    "as follows:\n",
    "- ctr(0) = key >> 2\n",
    "- ctr(i) = ctr(i - 1) >> 2 ⊕ 0x53, i > 0\n",
    "\n",
    "where (>>) is a circular shift to the right and (⊕) is a XOR operation. Consider:\n",
    "* key = 0x22\n",
    "* information = 0x0001020304\n",
    "* AES as a XOR operation\n",
    "\n",
    "1. Probe that the ciphered information is **0xAA522FB151** and its corresponding MIC is **0x26**.\n",
    "\n",
    "2. Check that the same schema also works as a decipher."
   ]
  },
  {
   "cell_type": "markdown",
   "id": "decreased-hacker",
   "metadata": {},
   "source": [
    "## Utils\n",
    "First of all, will be introduced the modules and functions provided used throughout the code, to compute the solution.\n",
    "\n",
    "We are using `prettytable` to print more structured the results and you may install it by executing\n",
    "\n",
    "`$ pip install prettytable`\n",
    "\n",
    "or using any other package manager such as `Anaconda` by `$conda install -c conda-forge prettytable`"
   ]
  },
  {
   "cell_type": "code",
   "execution_count": 1,
   "id": "relevant-advance",
   "metadata": {},
   "outputs": [],
   "source": [
    "from prettytable import PrettyTable"
   ]
  },
  {
   "cell_type": "markdown",
   "id": "recovered-algebra",
   "metadata": {},
   "source": [
    "### Circular shift right\n",
    "This function performs a bitwise rotation assuming that the bits are rotated as if the left and right ends of the register were joined (circular ratation)."
   ]
  },
  {
   "cell_type": "code",
   "execution_count": 2,
   "id": "rural-valley",
   "metadata": {},
   "outputs": [],
   "source": [
    "def circShift(val):\n",
    "    tmp = val & shift_by\n",
    "    return (val >> shift_by) | (tmp << (block_length - shift_by))"
   ]
  },
  {
   "cell_type": "markdown",
   "id": "impaired-taxation",
   "metadata": {},
   "source": [
    "### XOR operation (⊕)"
   ]
  },
  {
   "cell_type": "code",
   "execution_count": 3,
   "id": "comparative-confirmation",
   "metadata": {},
   "outputs": [],
   "source": [
    "def xor(a, b):\n",
    "    return a ^ b"
   ]
  },
  {
   "cell_type": "markdown",
   "id": "multiple-flashing",
   "metadata": {},
   "source": [
    "### CTR (AES block cipher mode)\n"
   ]
  },
  {
   "cell_type": "code",
   "execution_count": 4,
   "id": "departmental-antibody",
   "metadata": {},
   "outputs": [],
   "source": [
    "def ctr(val):\n",
    "    ctr = []\n",
    "    for i in range(0, 5):\n",
    "        if (i == 0):\n",
    "            tmp = circShift(circShift(val))\n",
    "        else:\n",
    "            tmp = xor(circShift(circShift(ctr[i - 1])), x) # XOR operation (⊕)\n",
    "        ctr.append(tmp)\n",
    "    return ctr"
   ]
  },
  {
   "cell_type": "code",
   "execution_count": 5,
   "id": "theoretical-distribution",
   "metadata": {},
   "outputs": [],
   "source": [
    "def bold(str):\n",
    "    return \"\\033[1m{0}\\033[0m\".format(str)"
   ]
  },
  {
   "cell_type": "markdown",
   "id": "purple-latter",
   "metadata": {},
   "source": [
    "## Problem execution"
   ]
  },
  {
   "cell_type": "markdown",
   "id": "challenging-breed",
   "metadata": {},
   "source": [
    "### Input data\n",
    "Defining the variables with the statement data, and then printing formatted on bits results."
   ]
  },
  {
   "cell_type": "code",
   "execution_count": 6,
   "id": "satellite-track",
   "metadata": {},
   "outputs": [],
   "source": [
    "block_length = 8\n",
    "x = 0x53\n",
    "\n",
    "key = 0x22\n",
    "information = 0x0001020304\n",
    "information_array = [0x00, 0x01, 0x02, 0x03, 0x04]\n",
    "\n",
    "ciphered_information = 0xAA522FB151\n",
    "MIC = 0x26\n",
    "\n",
    "shift_by = 1\n",
    "IV = int('00000000', 2)"
   ]
  },
  {
   "cell_type": "code",
   "execution_count": 7,
   "id": "alpha-jumping",
   "metadata": {},
   "outputs": [
    {
     "name": "stdout",
     "output_type": "stream",
     "text": [
      "+-------------------------------------+\n",
      "|              Input Data             |\n",
      "+-------------------+-----------------+\n",
      "| Field             |           Value |\n",
      "+-------------------+-----------------+\n",
      "| \u001b[1mKey\u001b[0m               |              34 |\n",
      "| \u001b[1mInformation\u001b[0m       |        16909060 |\n",
      "| \u001b[1mInformation array\u001b[0m | [0, 1, 2, 3, 4] |\n",
      "| \u001b[1mMIC\u001b[0m               |              38 |\n",
      "| \u001b[1mCiphered info\u001b[0m     |    731523297617 |\n",
      "| \u001b[1mIV\u001b[0m                |               0 |\n",
      "| \u001b[1mx\u001b[0m                 |              83 |\n",
      "| \u001b[1mBlock length\u001b[0m      |               8 |\n",
      "| \u001b[1mShift by\u001b[0m          |               1 |\n",
      "+-------------------+-----------------+\n"
     ]
    }
   ],
   "source": [
    "inputData = PrettyTable(title=\"Input Data\", field_names=[\"Field\", \"Value\"])\n",
    "\n",
    "inputData.align[\"Field\"] = \"l\"\n",
    "inputData.align[\"Value\"] = \"r\"\n",
    "\n",
    "inputData.add_row([bold(\"Key\"), key])\n",
    "inputData.add_row([bold(\"Information\"), information])\n",
    "inputData.add_row([bold(\"Information array\"), information_array])\n",
    "inputData.add_row([bold(\"MIC\"), MIC])\n",
    "inputData.add_row([bold(\"Ciphered info\"), ciphered_information])\n",
    "inputData.add_row([bold(\"IV\"), IV])\n",
    "inputData.add_row([bold(\"x\"), x])\n",
    "inputData.add_row([bold(\"Block length\"), block_length])\n",
    "inputData.add_row([bold(\"Shift by\"), shift_by])\n",
    "print(inputData)\n"
   ]
  },
  {
   "cell_type": "markdown",
   "id": "periodic-marketplace",
   "metadata": {},
   "source": [
    "First, we musth have in mind the CCM schema,\n",
    "\n",
    "\n",
    "<div style=\"width: 560px; margin-top: 10px;\"><img src='assets/ccm_schema.png' alt='CCM Schema'/></div>"
   ]
  },
  {
   "cell_type": "markdown",
   "id": "elegant-trial",
   "metadata": {},
   "source": [
    "As can be seen though, to cypher the information the CTR should be applied, but to get the MIC the CBC takes part.\n",
    "\n",
    "Besides, this case is based on 8 bits instead of 128 bits, \n",
    "\n",
    "therefore, the CCMP will have 8 bits and our block of information 40 bits, meaning 5 control blocks must be computed."
   ]
  },
  {
   "cell_type": "markdown",
   "id": "twelve-privacy",
   "metadata": {},
   "source": [
    "### Calculation CTR"
   ]
  },
  {
   "cell_type": "code",
   "execution_count": 8,
   "id": "actual-qatar",
   "metadata": {},
   "outputs": [
    {
     "name": "stdout",
     "output_type": "stream",
     "text": [
      "[136, 113, 15, 144, 119]\n",
      "10001000 01110001 00001111 10010000 01110111 "
     ]
    }
   ],
   "source": [
    "CTR = ctr(key)\n",
    "print(CTR)\n",
    "for v in CTR: print(\"{0:08b} \".format(v), end='')"
   ]
  },
  {
   "cell_type": "markdown",
   "id": "mature-webcam",
   "metadata": {},
   "source": [
    "### Data cyphering\n",
    "\n",
    "\n",
    "Applying the CTR and the AES key into a XOR operation, the result of which will reach another XOR operation with each block of 8 bits the corresponding data following the below schema.\n",
    "\n",
    "<div style=\"width: 580px; margin-top: 20px;\"><img src='assets/ctr_mode.png' alt='CTR mode'/></div>"
   ]
  },
  {
   "cell_type": "code",
   "execution_count": 9,
   "id": "original-plumbing",
   "metadata": {},
   "outputs": [
    {
     "name": "stdout",
     "output_type": "stream",
     "text": [
      "[170, 82, 47, 177, 81]\n",
      "10101010 01010010 00101111 10110001 01010001 "
     ]
    }
   ],
   "source": [
    "cyphered = []\n",
    "\n",
    "[cyphered.append(xor(information_array[i], xor(CTR[i], key))) for i in range(len(CTR))]\n",
    "\n",
    "print(cyphered)\n",
    "for v in cyphered: print(\"{0:08b} \".format(v), end='')"
   ]
  },
  {
   "cell_type": "markdown",
   "id": "isolated-walter",
   "metadata": {},
   "source": [
    "Thus, the cyphered data obtained results in ** **"
   ]
  },
  {
   "cell_type": "markdown",
   "id": "entire-death",
   "metadata": {},
   "source": [
    "## MIC calculation (checksum)\n",
    "\n",
    "Now we must calculate, following the CCM Schema, the MIC applying the CBC mode schema\n",
    "\n",
    "<div style=\"width: 580px; margin-top: 30px;\"><img src='assets/cbc_mode.png' alt='CBC Mode' /></div>\n",
    "\n",
    "taking into account both the IV and the key in the computation. But, the result for the last block should be equal to the desired MIC."
   ]
  },
  {
   "cell_type": "code",
   "execution_count": 10,
   "id": "minus-imaging",
   "metadata": {},
   "outputs": [
    {
     "name": "stdout",
     "output_type": "stream",
     "text": [
      "00100010 00000001 00100001 00000000 00100110 "
     ]
    }
   ],
   "source": [
    "MIC = []\n",
    "\n",
    "MIC.append(xor(xor(information_array[0], IV), key)) # first bloc appending\n",
    "[MIC.append(xor(xor(information_array[i], MIC[i - 1]), key)) for i in range(1, len(information_array))]\n",
    "\n",
    "for v in MIC: print(\"{0:08b} \".format(v), end='')  "
   ]
  },
  {
   "cell_type": "markdown",
   "id": "inner-tattoo",
   "metadata": {},
   "source": [
    "Thus, the fifth block (MIC) is"
   ]
  },
  {
   "cell_type": "code",
   "execution_count": 11,
   "id": "adjacent-assistant",
   "metadata": {},
   "outputs": [
    {
     "name": "stdout",
     "output_type": "stream",
     "text": [
      "\u001b[1mMIC\u001b[0m = 00100110 = 0x26\n"
     ]
    }
   ],
   "source": [
    "print(\"{0} = {1:08b} = {2}\".format(bold(\"MIC\"), MIC[4], hex(MIC[4])))"
   ]
  },
  {
   "cell_type": "markdown",
   "id": "certified-jumping",
   "metadata": {},
   "source": [
    "## Part 2\n",
    "\n",
    "Check that the same schema also works as a decyhper\n",
    "\n",
    "To do this, we will use the cyphered information obtained before\n",
    "\n",
    "\n",
    "## Data decyphering\n",
    "Applying an XOR operation between the cyphered data, the CTR and the AES key."
   ]
  },
  {
   "cell_type": "code",
   "execution_count": 12,
   "id": "sound-wilson",
   "metadata": {},
   "outputs": [
    {
     "name": "stdout",
     "output_type": "stream",
     "text": [
      "00000000 00000001 00000010 00000011 00000100 "
     ]
    }
   ],
   "source": [
    "decyphered = []\n",
    "\n",
    "for i in range(len(CTR)): # applying the same method XOR based\n",
    "    tmp = xor(cyphered[i], xor(CTR[i], key))\n",
    "    decyphered.append(tmp)\n",
    "\n",
    "for v in decyphered: print(\"{0:08b} \".format(v), end='')    "
   ]
  },
  {
   "cell_type": "markdown",
   "id": "federal-prompt",
   "metadata": {},
   "source": [
    "## Result comparison\n",
    "Once all the computations are done, let's focus on what results were obtained since the aim is to get as descyphered the same original information provided as input data by using the same methodology."
   ]
  },
  {
   "cell_type": "code",
   "execution_count": 13,
   "id": "familiar-saskatchewan",
   "metadata": {},
   "outputs": [],
   "source": [
    "def toBin(val, str=''):\n",
    "    for v in val:\n",
    "        str += \"{0:08b} \".format(v)\n",
    "    return str"
   ]
  },
  {
   "cell_type": "code",
   "execution_count": 14,
   "id": "intellectual-jerusalem",
   "metadata": {},
   "outputs": [
    {
     "name": "stdout",
     "output_type": "stream",
     "text": [
      "+----------------------------------------------------------------------+\n",
      "|                               Results                                |\n",
      "+----------------------+-----------------------------------------------+\n",
      "| Field                |                                         Value |\n",
      "+----------------------+-----------------------------------------------+\n",
      "| \u001b[1mOriginal information\u001b[0m | \u001b[1m00000000 00000001 00000010 00000011 00000100 \u001b[0m |\n",
      "| \u001b[1mCTR\u001b[0m                  | 10001000 01110001 00001111 10010000 01110111  |\n",
      "| \u001b[1mCyphered\u001b[0m             | 10101010 01010010 00101111 10110001 01010001  |\n",
      "| \u001b[1mMIC\u001b[0m                  | 00100010 00000001 00100001 00000000 00100110  |\n",
      "| \u001b[1mDecyphered\u001b[0m           | \u001b[1m00000000 00000001 00000010 00000011 00000100 \u001b[0m |\n",
      "+----------------------+-----------------------------------------------+\n"
     ]
    }
   ],
   "source": [
    "tableResult = PrettyTable(title=\"Results\", field_names=[\"Field\", \"Value\"])\n",
    "\n",
    "tableResult.align[\"Field\"] = \"l\"\n",
    "tableResult.align[\"Value\"] = \"r\"\n",
    "\n",
    "tableResult.add_row([bold(\"Original information\"), bold(toBin(information_array))])\n",
    "tableResult.add_row([bold(\"CTR\"), toBin(CTR)])\n",
    "tableResult.add_row([bold(\"Cyphered\"), toBin(cyphered)])\n",
    "tableResult.add_row([bold(\"MIC\"), toBin(MIC)])\n",
    "tableResult.add_row([bold(\"Decyphered\"), bold(toBin(decyphered))])\n",
    "print(tableResult)"
   ]
  },
  {
   "cell_type": "markdown",
   "id": "similar-fence",
   "metadata": {},
   "source": [
    "Both the original and the deciphered results show the same values so it is safe to assume that the whole process has been performed correctly."
   ]
  }
 ],
 "metadata": {
  "kernelspec": {
   "display_name": "Python 3",
   "language": "python",
   "name": "python3"
  },
  "language_info": {
   "codemirror_mode": {
    "name": "ipython",
    "version": 3
   },
   "file_extension": ".py",
   "mimetype": "text/x-python",
   "name": "python",
   "nbconvert_exporter": "python",
   "pygments_lexer": "ipython3",
   "version": "3.9.0"
  }
 },
 "nbformat": 4,
 "nbformat_minor": 5
}
