{
 "cells": [
  {
   "cell_type": "markdown",
   "metadata": {},
   "source": [
    "# ICT Project: Communication Services and Security\n",
    "## Exercise 2\n",
    "\n",
    "### Albert Pérez Datsira\n",
    "### Jeongyun Lee"
   ]
  },
  {
   "cell_type": "code",
   "execution_count": 1,
   "metadata": {},
   "outputs": [],
   "source": [
    "import matplotlib.pyplot as plt\n",
    "import numpy as np\n",
    "import pandas as pd"
   ]
  },
  {
   "cell_type": "code",
   "execution_count": 2,
   "metadata": {},
   "outputs": [
    {
     "data": {
      "text/html": [
       "<div>\n",
       "<style scoped>\n",
       "    .dataframe tbody tr th:only-of-type {\n",
       "        vertical-align: middle;\n",
       "    }\n",
       "\n",
       "    .dataframe tbody tr th {\n",
       "        vertical-align: top;\n",
       "    }\n",
       "\n",
       "    .dataframe thead th {\n",
       "        text-align: right;\n",
       "    }\n",
       "</style>\n",
       "<table border=\"1\" class=\"dataframe\">\n",
       "  <thead>\n",
       "    <tr style=\"text-align: right;\">\n",
       "      <th></th>\n",
       "      <th>Event_Type</th>\n",
       "      <th>Time</th>\n",
       "      <th>Src_Node</th>\n",
       "      <th>Dst_Node</th>\n",
       "      <th>Pckt_Type</th>\n",
       "      <th>Pckt_Size</th>\n",
       "      <th>Flags</th>\n",
       "      <th>Flow_Identifier</th>\n",
       "      <th>Src_Address</th>\n",
       "      <th>Dst_Address</th>\n",
       "      <th>Pckt_Number</th>\n",
       "      <th>Pckt_Identifier</th>\n",
       "    </tr>\n",
       "  </thead>\n",
       "  <tbody>\n",
       "    <tr>\n",
       "      <th>0</th>\n",
       "      <td>+</td>\n",
       "      <td>0.0</td>\n",
       "      <td>0</td>\n",
       "      <td>3</td>\n",
       "      <td>tcp</td>\n",
       "      <td>40</td>\n",
       "      <td>-------</td>\n",
       "      <td>0</td>\n",
       "      <td>0.0</td>\n",
       "      <td>4.0</td>\n",
       "      <td>0</td>\n",
       "      <td>0</td>\n",
       "    </tr>\n",
       "    <tr>\n",
       "      <th>1</th>\n",
       "      <td>-</td>\n",
       "      <td>0.0</td>\n",
       "      <td>0</td>\n",
       "      <td>3</td>\n",
       "      <td>tcp</td>\n",
       "      <td>40</td>\n",
       "      <td>-------</td>\n",
       "      <td>0</td>\n",
       "      <td>0.0</td>\n",
       "      <td>4.0</td>\n",
       "      <td>0</td>\n",
       "      <td>0</td>\n",
       "    </tr>\n",
       "    <tr>\n",
       "      <th>2</th>\n",
       "      <td>+</td>\n",
       "      <td>0.0</td>\n",
       "      <td>1</td>\n",
       "      <td>3</td>\n",
       "      <td>tcp</td>\n",
       "      <td>40</td>\n",
       "      <td>-------</td>\n",
       "      <td>1</td>\n",
       "      <td>1.0</td>\n",
       "      <td>4.1</td>\n",
       "      <td>0</td>\n",
       "      <td>1</td>\n",
       "    </tr>\n",
       "    <tr>\n",
       "      <th>3</th>\n",
       "      <td>-</td>\n",
       "      <td>0.0</td>\n",
       "      <td>1</td>\n",
       "      <td>3</td>\n",
       "      <td>tcp</td>\n",
       "      <td>40</td>\n",
       "      <td>-------</td>\n",
       "      <td>1</td>\n",
       "      <td>1.0</td>\n",
       "      <td>4.1</td>\n",
       "      <td>0</td>\n",
       "      <td>1</td>\n",
       "    </tr>\n",
       "    <tr>\n",
       "      <th>4</th>\n",
       "      <td>+</td>\n",
       "      <td>0.0</td>\n",
       "      <td>2</td>\n",
       "      <td>3</td>\n",
       "      <td>tcp</td>\n",
       "      <td>1000</td>\n",
       "      <td>-------</td>\n",
       "      <td>2</td>\n",
       "      <td>2.0</td>\n",
       "      <td>4.2</td>\n",
       "      <td>0</td>\n",
       "      <td>2</td>\n",
       "    </tr>\n",
       "  </tbody>\n",
       "</table>\n",
       "</div>"
      ],
      "text/plain": [
       "  Event_Type  Time  Src_Node  Dst_Node Pckt_Type  Pckt_Size    Flags  \\\n",
       "0          +   0.0         0         3       tcp         40  -------   \n",
       "1          -   0.0         0         3       tcp         40  -------   \n",
       "2          +   0.0         1         3       tcp         40  -------   \n",
       "3          -   0.0         1         3       tcp         40  -------   \n",
       "4          +   0.0         2         3       tcp       1000  -------   \n",
       "\n",
       "   Flow_Identifier  Src_Address  Dst_Address  Pckt_Number  Pckt_Identifier  \n",
       "0                0          0.0          4.0            0                0  \n",
       "1                0          0.0          4.0            0                0  \n",
       "2                1          1.0          4.1            0                1  \n",
       "3                1          1.0          4.1            0                1  \n",
       "4                2          2.0          4.2            0                2  "
      ]
     },
     "execution_count": 2,
     "metadata": {},
     "output_type": "execute_result"
    }
   ],
   "source": [
    "header = ['Event_Type', 'Time', 'Src_Node', 'Dst_Node', 'Pckt_Type', 'Pckt_Size', 'Flags', 'Flow_Identifier', 'Src_Address', 'Dst_Address', 'Pckt_Number', 'Pckt_Identifier']\n",
    "df = pd.read_csv('sim-trace.tr', sep=' ', names = header)\n",
    "\n",
    "df.head() # show first 5 rows"
   ]
  },
  {
   "cell_type": "code",
   "execution_count": 3,
   "metadata": {},
   "outputs": [
    {
     "name": "stdout",
     "output_type": "stream",
     "text": [
      "<class 'pandas.core.frame.DataFrame'>\n",
      "RangeIndex: 28519 entries, 0 to 28518\n",
      "Data columns (total 12 columns):\n",
      " #   Column           Non-Null Count  Dtype  \n",
      "---  ------           --------------  -----  \n",
      " 0   Event_Type       28519 non-null  object \n",
      " 1   Time             28519 non-null  float64\n",
      " 2   Src_Node         28519 non-null  int64  \n",
      " 3   Dst_Node         28519 non-null  int64  \n",
      " 4   Pckt_Type        28519 non-null  object \n",
      " 5   Pckt_Size        28519 non-null  int64  \n",
      " 6   Flags            28519 non-null  object \n",
      " 7   Flow_Identifier  28519 non-null  int64  \n",
      " 8   Src_Address      28519 non-null  float64\n",
      " 9   Dst_Address      28519 non-null  float64\n",
      " 10  Pckt_Number      28519 non-null  int64  \n",
      " 11  Pckt_Identifier  28519 non-null  int64  \n",
      "dtypes: float64(3), int64(6), object(3)\n",
      "memory usage: 2.6+ MB\n"
     ]
    }
   ],
   "source": [
    "df.info() # get dataframe info, to see if its needed to clean"
   ]
  },
  {
   "cell_type": "markdown",
   "metadata": {},
   "source": [
    "### Lost Packets"
   ]
  },
  {
   "cell_type": "code",
   "execution_count": 4,
   "metadata": {},
   "outputs": [],
   "source": [
    "lost_pckts = df.Event_Type == 'd' # get lots packets by mapping those ones with event_type == 'd' (dropped)\n",
    "ids = df[lost_pckts].Flow_Identifier # filter by the flow_identifier (class)\n",
    "# we could also filter by Src_Address, as we need the packets dropped by the n3\n",
    "\n",
    "n0_lost = sum(ids == 0) # TCP Tahoe\n",
    "n1_lost = sum(ids == 1) # TCP Reno\n",
    "n2_lost = sum(ids == 2) # TCP Vegas"
   ]
  },
  {
   "cell_type": "code",
   "execution_count": 5,
   "metadata": {},
   "outputs": [
    {
     "name": "stdout",
     "output_type": "stream",
     "text": [
      "Lost Packets\n",
      "Node 0, TCP Tahoe:\t 10\n",
      "Node 1, TCP Reno:\t 11\n",
      "Node 2, TCP Vegas:\t 1\n",
      "Total:  22\n"
     ]
    }
   ],
   "source": [
    "print(\"Lost Packets\")\n",
    "print(\"Node 0, TCP Tahoe:\\t\", n0_lost)\n",
    "print(\"Node 1, TCP Reno:\\t\", n1_lost)\n",
    "print(\"Node 2, TCP Vegas:\\t\", n2_lost)\n",
    "print(\"Total: \", ids.count())"
   ]
  },
  {
   "cell_type": "markdown",
   "metadata": {},
   "source": [
    "### Transferred bytes"
   ]
  },
  {
   "cell_type": "code",
   "execution_count": 6,
   "metadata": {},
   "outputs": [],
   "source": [
    "def mapNode(row, node):\n",
    "  return row.Src_Node == int(node) and row.Event_Type == '-' # mapping condition\n",
    "\n",
    "n0_pckts = df.apply(mapNode, axis = 1, args=('0'))\n",
    "n1_pckts = df.apply(mapNode, axis = 1, args=('1'))\n",
    "n2_pckts = df.apply(mapNode, axis = 1, args=('2'))\n",
    "n3_pckts = df.apply(mapNode, axis = 1, args=('3'))\n",
    "n4_pckts = df.apply(mapNode, axis = 1, args=('4'))\n",
    "\n",
    "n0_bytes = sum(df[n0_pckts].Pckt_Size)\n",
    "n1_bytes = sum(df[n1_pckts].Pckt_Size)\n",
    "n2_bytes = sum(df[n2_pckts].Pckt_Size)\n",
    "n3_bytes = sum(df[n3_pckts].Pckt_Size)\n",
    "n4_bytes = sum(df[n4_pckts].Pckt_Size)\n",
    "total_bytes = n0_bytes + n1_bytes + n2_bytes + n3_bytes + n4_bytes"
   ]
  },
  {
   "cell_type": "code",
   "execution_count": 7,
   "metadata": {},
   "outputs": [
    {
     "name": "stdout",
     "output_type": "stream",
     "text": [
      "Transferred bytes:\n",
      "Node 0, TCP Tahoe:\t 766520\n",
      "Node 1, TCP Reno:\t 759240\n",
      "Node 2, TCP Vegas:\t 940000\n",
      "Node 3:\t 2517600\n",
      "Node 4:\t 94440\n",
      "Total Agents:\t 2465760\n",
      "Total Scenario:\t 5077800\n"
     ]
    }
   ],
   "source": [
    "print(\"Transferred bytes:\")\n",
    "print(\"Node 0, TCP Tahoe:\\t\", n0_bytes)\n",
    "print(\"Node 1, TCP Reno:\\t\", n1_bytes)\n",
    "print(\"Node 2, TCP Vegas:\\t\", n2_bytes)\n",
    "print(\"Node 3:\\t\", n3_bytes)\n",
    "print(\"Node 4:\\t\", n4_bytes)\n",
    "print(\"Total Agents:\\t\", n0_bytes + n1_bytes + n2_bytes)\n",
    "print(\"Total Scenario:\\t\", total_bytes)"
   ]
  },
  {
   "cell_type": "markdown",
   "metadata": {},
   "source": [
    "## sim-trace.rtt"
   ]
  },
  {
   "cell_type": "code",
   "execution_count": 8,
   "metadata": {},
   "outputs": [
    {
     "data": {
      "text/html": [
       "<div>\n",
       "<style scoped>\n",
       "    .dataframe tbody tr th:only-of-type {\n",
       "        vertical-align: middle;\n",
       "    }\n",
       "\n",
       "    .dataframe tbody tr th {\n",
       "        vertical-align: top;\n",
       "    }\n",
       "\n",
       "    .dataframe thead th {\n",
       "        text-align: right;\n",
       "    }\n",
       "</style>\n",
       "<table border=\"1\" class=\"dataframe\">\n",
       "  <thead>\n",
       "    <tr style=\"text-align: right;\">\n",
       "      <th></th>\n",
       "      <th>Node</th>\n",
       "      <th>Time</th>\n",
       "      <th>rtt</th>\n",
       "      <th>srtt</th>\n",
       "      <th>cwnd</th>\n",
       "      <th>cwmax</th>\n",
       "      <th>bo</th>\n",
       "    </tr>\n",
       "  </thead>\n",
       "  <tbody>\n",
       "    <tr>\n",
       "      <th>0</th>\n",
       "      <td>0</td>\n",
       "      <td>0.0</td>\n",
       "      <td>0.0</td>\n",
       "      <td>0.0</td>\n",
       "      <td>1.0</td>\n",
       "      <td>40</td>\n",
       "      <td>0.0</td>\n",
       "    </tr>\n",
       "    <tr>\n",
       "      <th>1</th>\n",
       "      <td>1</td>\n",
       "      <td>0.0</td>\n",
       "      <td>0.0</td>\n",
       "      <td>0.0</td>\n",
       "      <td>1.0</td>\n",
       "      <td>40</td>\n",
       "      <td>0.0</td>\n",
       "    </tr>\n",
       "    <tr>\n",
       "      <th>2</th>\n",
       "      <td>2</td>\n",
       "      <td>0.0</td>\n",
       "      <td>0.0</td>\n",
       "      <td>0.0</td>\n",
       "      <td>1.0</td>\n",
       "      <td>40</td>\n",
       "      <td>0.0</td>\n",
       "    </tr>\n",
       "    <tr>\n",
       "      <th>3</th>\n",
       "      <td>0</td>\n",
       "      <td>0.1</td>\n",
       "      <td>0.0</td>\n",
       "      <td>0.0</td>\n",
       "      <td>1.0</td>\n",
       "      <td>40</td>\n",
       "      <td>0.0</td>\n",
       "    </tr>\n",
       "    <tr>\n",
       "      <th>4</th>\n",
       "      <td>1</td>\n",
       "      <td>0.1</td>\n",
       "      <td>0.0</td>\n",
       "      <td>0.0</td>\n",
       "      <td>1.0</td>\n",
       "      <td>40</td>\n",
       "      <td>0.0</td>\n",
       "    </tr>\n",
       "  </tbody>\n",
       "</table>\n",
       "</div>"
      ],
      "text/plain": [
       "   Node  Time  rtt  srtt  cwnd  cwmax   bo\n",
       "0     0   0.0  0.0   0.0   1.0     40  0.0\n",
       "1     1   0.0  0.0   0.0   1.0     40  0.0\n",
       "2     2   0.0  0.0   0.0   1.0     40  0.0\n",
       "3     0   0.1  0.0   0.0   1.0     40  0.0\n",
       "4     1   0.1  0.0   0.0   1.0     40  0.0"
      ]
     },
     "execution_count": 8,
     "metadata": {},
     "output_type": "execute_result"
    }
   ],
   "source": [
    "header2 = ['Node', 'Time', 'rtt', 'srtt', 'cwnd', 'cwmax', 'bo'] # values collected\n",
    "df2 = pd.read_csv('sim-trace.rtt', sep=' ', names = header2)\n",
    "\n",
    "df2.head()"
   ]
  },
  {
   "cell_type": "code",
   "execution_count": 9,
   "metadata": {},
   "outputs": [],
   "source": [
    "# get cwnd values\n",
    "cwnd0 = df2[df2.Node == 0].cwnd\n",
    "cwnd1 = df2[df2.Node == 1].cwnd\n",
    "cwnd2 = df2[df2.Node == 2].cwnd\n",
    "time = df2[df2.Node == 0].Time"
   ]
  },
  {
   "cell_type": "code",
   "execution_count": 10,
   "metadata": {
    "scrolled": false
   },
   "outputs": [
    {
     "data": {
      "image/png": "[encoded data removed]",
      "text/plain": [
       "<Figure size 432x288 with 1 Axes>"
      ]
     },
     "metadata": {
      "needs_background": "light"
     },
     "output_type": "display_data"
    }
   ],
   "source": [
    "plt.plot(time, cwnd0, label='TCP Tahoe', color='blue')\n",
    "plt.plot(time, cwnd1, label='TCP Reno', color='green')\n",
    "plt.plot(time, cwnd2, label='TCP Vegas', color='red')\n",
    "\n",
    "plt.title('Congestion window x Time')\n",
    "plt.xlabel('Time (s)')\n",
    "plt.ylabel('Congestion window (MSS)')\n",
    "plt.legend(loc='upper right')\n",
    "plt.savefig(\"cwnd-plot.png\")\n",
    "plt.show()"
   ]
  },
  {
   "cell_type": "code",
   "execution_count": null,
   "metadata": {},
   "outputs": [],
   "source": []
  }
 ],
 "metadata": {
  "kernelspec": {
   "display_name": "Python 3",
   "language": "python",
   "name": "python3"
  },
  "language_info": {
   "codemirror_mode": {
    "name": "ipython",
    "version": 3
   },
   "file_extension": ".py",
   "mimetype": "text/x-python",
   "name": "python",
   "nbconvert_exporter": "python",
   "pygments_lexer": "ipython3",
   "version": "3.8.5"
  }
 },
 "nbformat": 4,
 "nbformat_minor": 5
}
