{
 "cells": [
  {
   "cell_type": "markdown",
   "id": "faced-regard",
   "metadata": {},
   "source": [
    "# ICT Project: Communication Services and Security\n",
    "## Assignment 2\n",
    "\n",
    "### Albert Pérez Datsira"
   ]
  },
  {
   "cell_type": "code",
   "execution_count": 1,
   "id": "decreased-generic",
   "metadata": {},
   "outputs": [],
   "source": [
    "import matplotlib.pyplot as plt\n",
    "import numpy as np\n",
    "import pandas as pd"
   ]
  },
  {
   "cell_type": "code",
   "execution_count": 2,
   "id": "constitutional-nickname",
   "metadata": {},
   "outputs": [
    {
     "data": {
      "text/html": [
       "<div>\n",
       "<style scoped>\n",
       "    .dataframe tbody tr th:only-of-type {\n",
       "        vertical-align: middle;\n",
       "    }\n",
       "\n",
       "    .dataframe tbody tr th {\n",
       "        vertical-align: top;\n",
       "    }\n",
       "\n",
       "    .dataframe thead th {\n",
       "        text-align: right;\n",
       "    }\n",
       "</style>\n",
       "<table border=\"1\" class=\"dataframe\">\n",
       "  <thead>\n",
       "    <tr style=\"text-align: right;\">\n",
       "      <th></th>\n",
       "      <th>Event_Type</th>\n",
       "      <th>Time</th>\n",
       "      <th>Link_Source_Node</th>\n",
       "      <th>Link_Destination_Node</th>\n",
       "      <th>Segment_Type</th>\n",
       "      <th>Segment_Size</th>\n",
       "      <th>Flags</th>\n",
       "      <th>Flow_Identifier</th>\n",
       "      <th>Segment_Source_Address</th>\n",
       "      <th>Segment_Destination_Address</th>\n",
       "      <th>Segment_Number</th>\n",
       "      <th>Segment_Identifier</th>\n",
       "    </tr>\n",
       "  </thead>\n",
       "  <tbody>\n",
       "    <tr>\n",
       "      <th>0</th>\n",
       "      <td>+</td>\n",
       "      <td>0.0</td>\n",
       "      <td>1</td>\n",
       "      <td>3</td>\n",
       "      <td>tcp</td>\n",
       "      <td>40</td>\n",
       "      <td>-------</td>\n",
       "      <td>1</td>\n",
       "      <td>1.0</td>\n",
       "      <td>4.1</td>\n",
       "      <td>0</td>\n",
       "      <td>0</td>\n",
       "    </tr>\n",
       "    <tr>\n",
       "      <th>1</th>\n",
       "      <td>-</td>\n",
       "      <td>0.0</td>\n",
       "      <td>1</td>\n",
       "      <td>3</td>\n",
       "      <td>tcp</td>\n",
       "      <td>40</td>\n",
       "      <td>-------</td>\n",
       "      <td>1</td>\n",
       "      <td>1.0</td>\n",
       "      <td>4.1</td>\n",
       "      <td>0</td>\n",
       "      <td>0</td>\n",
       "    </tr>\n",
       "    <tr>\n",
       "      <th>2</th>\n",
       "      <td>+</td>\n",
       "      <td>0.0</td>\n",
       "      <td>0</td>\n",
       "      <td>3</td>\n",
       "      <td>tcp</td>\n",
       "      <td>40</td>\n",
       "      <td>-------</td>\n",
       "      <td>0</td>\n",
       "      <td>0.0</td>\n",
       "      <td>4.0</td>\n",
       "      <td>0</td>\n",
       "      <td>1</td>\n",
       "    </tr>\n",
       "    <tr>\n",
       "      <th>3</th>\n",
       "      <td>-</td>\n",
       "      <td>0.0</td>\n",
       "      <td>0</td>\n",
       "      <td>3</td>\n",
       "      <td>tcp</td>\n",
       "      <td>40</td>\n",
       "      <td>-------</td>\n",
       "      <td>0</td>\n",
       "      <td>0.0</td>\n",
       "      <td>4.0</td>\n",
       "      <td>0</td>\n",
       "      <td>1</td>\n",
       "    </tr>\n",
       "    <tr>\n",
       "      <th>4</th>\n",
       "      <td>+</td>\n",
       "      <td>0.0</td>\n",
       "      <td>2</td>\n",
       "      <td>3</td>\n",
       "      <td>tcp</td>\n",
       "      <td>1000</td>\n",
       "      <td>-------</td>\n",
       "      <td>2</td>\n",
       "      <td>2.0</td>\n",
       "      <td>4.2</td>\n",
       "      <td>0</td>\n",
       "      <td>2</td>\n",
       "    </tr>\n",
       "  </tbody>\n",
       "</table>\n",
       "</div>"
      ],
      "text/plain": [
       "  Event_Type  Time  Link_Source_Node  Link_Destination_Node Segment_Type  \\\n",
       "0          +   0.0                 1                      3          tcp   \n",
       "1          -   0.0                 1                      3          tcp   \n",
       "2          +   0.0                 0                      3          tcp   \n",
       "3          -   0.0                 0                      3          tcp   \n",
       "4          +   0.0                 2                      3          tcp   \n",
       "\n",
       "   Segment_Size    Flags  Flow_Identifier  Segment_Source_Address  \\\n",
       "0            40  -------                1                     1.0   \n",
       "1            40  -------                1                     1.0   \n",
       "2            40  -------                0                     0.0   \n",
       "3            40  -------                0                     0.0   \n",
       "4          1000  -------                2                     2.0   \n",
       "\n",
       "   Segment_Destination_Address  Segment_Number  Segment_Identifier  \n",
       "0                          4.1               0                   0  \n",
       "1                          4.1               0                   0  \n",
       "2                          4.0               0                   1  \n",
       "3                          4.0               0                   1  \n",
       "4                          4.2               0                   2  "
      ]
     },
     "execution_count": 2,
     "metadata": {},
     "output_type": "execute_result"
    }
   ],
   "source": [
    "header = ['Event_Type', 'Time', 'Link_Source_Node', 'Link_Destination_Node', 'Segment_Type', 'Segment_Size', 'Flags', 'Flow_Identifier', 'Segment_Source_Address', 'Segment_Destination_Address', 'Segment_Number', 'Segment_Identifier']\n",
    "\n",
    "df = pd.read_csv('sim-trace.tr', sep=' ', names = header)\n",
    "\n",
    "df.head()"
   ]
  },
  {
   "cell_type": "code",
   "execution_count": 3,
   "id": "overall-atlantic",
   "metadata": {},
   "outputs": [
    {
     "name": "stdout",
     "output_type": "stream",
     "text": [
      "<class 'pandas.core.frame.DataFrame'>\n",
      "RangeIndex: 28509 entries, 0 to 28508\n",
      "Data columns (total 12 columns):\n",
      " #   Column                       Non-Null Count  Dtype  \n",
      "---  ------                       --------------  -----  \n",
      " 0   Event_Type                   28509 non-null  object \n",
      " 1   Time                         28509 non-null  float64\n",
      " 2   Link_Source_Node             28509 non-null  int64  \n",
      " 3   Link_Destination_Node        28509 non-null  int64  \n",
      " 4   Segment_Type                 28509 non-null  object \n",
      " 5   Segment_Size                 28509 non-null  int64  \n",
      " 6   Flags                        28509 non-null  object \n",
      " 7   Flow_Identifier              28509 non-null  int64  \n",
      " 8   Segment_Source_Address       28509 non-null  float64\n",
      " 9   Segment_Destination_Address  28509 non-null  float64\n",
      " 10  Segment_Number               28509 non-null  int64  \n",
      " 11  Segment_Identifier           28509 non-null  int64  \n",
      "dtypes: float64(3), int64(6), object(3)\n",
      "memory usage: 2.6+ MB\n"
     ]
    }
   ],
   "source": [
    "df.info()"
   ]
  },
  {
   "cell_type": "markdown",
   "id": "stuck-bankruptcy",
   "metadata": {},
   "source": [
    "### Lost Packets"
   ]
  },
  {
   "cell_type": "code",
   "execution_count": 4,
   "id": "permanent-semiconductor",
   "metadata": {},
   "outputs": [],
   "source": [
    "lost_packages = df.Event_Type == 'd'\n",
    "ids = df[lost_packages].Segment_Source_Address\n",
    "\n",
    "n0_lost = ids == 0 #TCP Vegas\n",
    "n1_lost = ids == 1 #TCP Reno\n",
    "n2_lost = ids == 2 #TCP Tahoe"
   ]
  },
  {
   "cell_type": "code",
   "execution_count": 5,
   "id": "announced-voltage",
   "metadata": {},
   "outputs": [
    {
     "name": "stdout",
     "output_type": "stream",
     "text": [
      "Lost Packages\n",
      "Node 0:\t 10\n",
      "Node 1:\t 11\n",
      "Node 2:\t 1\n",
      "Total:\t 22\n"
     ]
    }
   ],
   "source": [
    "print(\"Lost Packages\")\n",
    "print(\"Node 0:\\t\", sum(n0_lost))\n",
    "print(\"Node 1:\\t\", sum(n1_lost))\n",
    "print(\"Node 2:\\t\", sum(n2_lost))\n",
    "print(\"Total:\\t\", ids.count())"
   ]
  },
  {
   "cell_type": "markdown",
   "id": "racial-entity",
   "metadata": {},
   "source": [
    "### Transferred bytes"
   ]
  },
  {
   "cell_type": "code",
   "execution_count": 6,
   "id": "portable-cholesterol",
   "metadata": {},
   "outputs": [],
   "source": [
    "def getNode(row, node):\n",
    "  return row.Link_Source_Node == int(node) and row.Event_Type == '-'\n",
    "n0_packets = df.apply(getNode, axis = 1, args=('0'))\n",
    "n1_packets = df.apply(getNode, axis = 1, args=('1'))\n",
    "n2_packets = df.apply(getNode, axis = 1, args=('2'))\n",
    "n3_packets = df.apply(getNode, axis = 1, args=('3'))\n",
    "n4_packets = df.apply(getNode, axis = 1, args=('4'))\n",
    "\n",
    "n0_bytes = sum(df[n0_packets].Segment_Size)\n",
    "n1_bytes = sum(df[n1_packets].Segment_Size)\n",
    "n2_bytes = sum(df[n2_packets].Segment_Size)\n",
    "n3_bytes = sum(df[n3_packets].Segment_Size)\n",
    "n4_bytes = sum(df[n4_packets].Segment_Size)\n",
    "total_bytes = n0_bytes + n1_bytes + n2_bytes + n3_bytes + n4_bytes"
   ]
  },
  {
   "cell_type": "code",
   "execution_count": 7,
   "id": "tribal-gravity",
   "metadata": {},
   "outputs": [
    {
     "name": "stdout",
     "output_type": "stream",
     "text": [
      "Transferred bytes:\n",
      "Node 0:\t 765480\n",
      "Node 1:\t 759240\n",
      "Node 2:\t 940000\n",
      "Node 3:\t 2516560\n",
      "Node 4:\t 94400\n",
      "Total:\t 5075680\n"
     ]
    }
   ],
   "source": [
    "print(\"Transferred bytes:\")\n",
    "print(\"Node 0:\\t\", n0_bytes)\n",
    "print(\"Node 1:\\t\", n1_bytes)\n",
    "print(\"Node 2:\\t\", n2_bytes)\n",
    "print(\"Node 3:\\t\", n3_bytes)\n",
    "print(\"Node 4:\\t\", n4_bytes)\n",
    "print(\"Total:\\t\", total_bytes)"
   ]
  },
  {
   "cell_type": "markdown",
   "id": "portable-designer",
   "metadata": {},
   "source": [
    "## sim-trace.rtt"
   ]
  },
  {
   "cell_type": "code",
   "execution_count": 8,
   "id": "provincial-phenomenon",
   "metadata": {},
   "outputs": [
    {
     "data": {
      "text/html": [
       "<div>\n",
       "<style scoped>\n",
       "    .dataframe tbody tr th:only-of-type {\n",
       "        vertical-align: middle;\n",
       "    }\n",
       "\n",
       "    .dataframe tbody tr th {\n",
       "        vertical-align: top;\n",
       "    }\n",
       "\n",
       "    .dataframe thead th {\n",
       "        text-align: right;\n",
       "    }\n",
       "</style>\n",
       "<table border=\"1\" class=\"dataframe\">\n",
       "  <thead>\n",
       "    <tr style=\"text-align: right;\">\n",
       "      <th></th>\n",
       "      <th>Node</th>\n",
       "      <th>Time</th>\n",
       "      <th>rtt</th>\n",
       "      <th>srtt</th>\n",
       "      <th>cwnd</th>\n",
       "      <th>cwmax</th>\n",
       "      <th>bo</th>\n",
       "    </tr>\n",
       "  </thead>\n",
       "  <tbody>\n",
       "    <tr>\n",
       "      <th>0</th>\n",
       "      <td>0</td>\n",
       "      <td>0.0</td>\n",
       "      <td>0.0</td>\n",
       "      <td>0.0</td>\n",
       "      <td>1.0</td>\n",
       "      <td>40</td>\n",
       "      <td>0.0</td>\n",
       "    </tr>\n",
       "    <tr>\n",
       "      <th>1</th>\n",
       "      <td>1</td>\n",
       "      <td>0.0</td>\n",
       "      <td>0.0</td>\n",
       "      <td>0.0</td>\n",
       "      <td>1.0</td>\n",
       "      <td>40</td>\n",
       "      <td>0.0</td>\n",
       "    </tr>\n",
       "    <tr>\n",
       "      <th>2</th>\n",
       "      <td>2</td>\n",
       "      <td>0.0</td>\n",
       "      <td>0.0</td>\n",
       "      <td>0.0</td>\n",
       "      <td>1.0</td>\n",
       "      <td>40</td>\n",
       "      <td>0.0</td>\n",
       "    </tr>\n",
       "    <tr>\n",
       "      <th>3</th>\n",
       "      <td>0</td>\n",
       "      <td>0.1</td>\n",
       "      <td>0.0</td>\n",
       "      <td>0.0</td>\n",
       "      <td>1.0</td>\n",
       "      <td>40</td>\n",
       "      <td>0.0</td>\n",
       "    </tr>\n",
       "    <tr>\n",
       "      <th>4</th>\n",
       "      <td>1</td>\n",
       "      <td>0.1</td>\n",
       "      <td>0.0</td>\n",
       "      <td>0.0</td>\n",
       "      <td>1.0</td>\n",
       "      <td>40</td>\n",
       "      <td>0.0</td>\n",
       "    </tr>\n",
       "  </tbody>\n",
       "</table>\n",
       "</div>"
      ],
      "text/plain": [
       "   Node  Time  rtt  srtt  cwnd  cwmax   bo\n",
       "0     0   0.0  0.0   0.0   1.0     40  0.0\n",
       "1     1   0.0  0.0   0.0   1.0     40  0.0\n",
       "2     2   0.0  0.0   0.0   1.0     40  0.0\n",
       "3     0   0.1  0.0   0.0   1.0     40  0.0\n",
       "4     1   0.1  0.0   0.0   1.0     40  0.0"
      ]
     },
     "execution_count": 8,
     "metadata": {},
     "output_type": "execute_result"
    }
   ],
   "source": [
    "header2 = ['Node', 'Time', 'rtt', 'srtt', 'cwnd', 'cwmax', 'bo']\n",
    "\n",
    "df2 = pd.read_csv('sim-trace.rtt', sep=' ', names = header2)\n",
    "\n",
    "df2.head()"
   ]
  },
  {
   "cell_type": "code",
   "execution_count": 9,
   "id": "aware-lexington",
   "metadata": {},
   "outputs": [],
   "source": [
    "time = df2[df2.Node==0].Time\n",
    "cwnd0 = df2[df2.Node==0].cwnd\n",
    "cwnd1 = df2[df2.Node==1].cwnd\n",
    "cwnd2 = df2[df2.Node==2].cwnd"
   ]
  },
  {
   "cell_type": "code",
   "execution_count": 10,
   "id": "declared-immunology",
   "metadata": {},
   "outputs": [
    {
     "data": {
      "image/png": "[encoded data removed]",
      "text/plain": [
       "<Figure size 432x288 with 1 Axes>"
      ]
     },
     "metadata": {
      "needs_background": "light"
     },
     "output_type": "display_data"
    }
   ],
   "source": [
    "plt.plot(time,cwnd2, label='TCP Vegas', color='red')\n",
    "plt.plot(time,cwnd1, label='TCP Reno', color='green')\n",
    "plt.plot(time,cwnd0, label='TCP Tahoe', color='blue')\n",
    "\n",
    "plt.title('Congestion Windows x Time')\n",
    "plt.xlabel('Time (s)')\n",
    "plt.ylabel('Congestion Window (MSS)')\n",
    "plt.legend(loc='upper right')\n",
    "plt.show()"
   ]
  },
  {
   "cell_type": "code",
   "execution_count": null,
   "id": "broke-rehabilitation",
   "metadata": {},
   "outputs": [],
   "source": []
  }
 ],
 "metadata": {
  "kernelspec": {
   "display_name": "Python 3",
   "language": "python",
   "name": "python3"
  },
  "language_info": {
   "codemirror_mode": {
    "name": "ipython",
    "version": 3
   },
   "file_extension": ".py",
   "mimetype": "text/x-python",
   "name": "python",
   "nbconvert_exporter": "python",
   "pygments_lexer": "ipython3",
   "version": "3.9.0"
  }
 },
 "nbformat": 4,
 "nbformat_minor": 5
}
