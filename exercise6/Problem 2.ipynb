{
 "cells": [
  {
   "cell_type": "markdown",
   "id": "mathematical-preparation",
   "metadata": {},
   "source": [
    "# Exercise 6. ICT Project: Communication Services and Security\n",
    "### Cèsar Fernàndez Camón\n",
    "\n",
    "#### Authors:\n",
    "- Albert Pérez Datsira\n",
    "- Jeongyun Lee\n",
    "\n",
    "\n",
    "## Problem 2\n",
    "Let’s assume a CCMP with 8 bits length block. The counter blocks are computed\n",
    "as follows:\n",
    "- ctr(0) = key >> 2\n",
    "- ctr(i) = ctr(i - 1) >> 2 ⊕ 0x53, i > 0\n",
    "\n",
    "where (>>) is a circular shift to the right and (⊕) is a XOR operation. Consider:\n",
    "* key = 0x22\n",
    "* information = 0x0001020304\n",
    "* AES as a XOR operation\n",
    "\n",
    "Probe that the ciphered information is **0xAA522FB151** and its corresponding MIC is **0x26**.\n",
    "Check that the same schema also works as a decipher."
   ]
  },
  {
   "cell_type": "code",
   "execution_count": null,
   "id": "satellite-track",
   "metadata": {},
   "outputs": [],
   "source": []
  }
 ],
 "metadata": {
  "kernelspec": {
   "display_name": "Python 3",
   "language": "python",
   "name": "python3"
  },
  "language_info": {
   "codemirror_mode": {
    "name": "ipython",
    "version": 3
   },
   "file_extension": ".py",
   "mimetype": "text/x-python",
   "name": "python",
   "nbconvert_exporter": "python",
   "pygments_lexer": "ipython3",
   "version": "3.9.5"
  }
 },
 "nbformat": 4,
 "nbformat_minor": 5
}
