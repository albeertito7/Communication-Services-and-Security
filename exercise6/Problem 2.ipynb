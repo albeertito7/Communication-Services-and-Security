{
 "cells": [
  {
   "cell_type": "markdown",
   "id": "mathematical-preparation",
   "metadata": {},
   "source": [
    "# Exercise 6. ICT Project: Communication Services and Security\n",
    "### Cèsar Fernàndez Camón\n",
    "\n",
    "#### Authors:\n",
    "- Albert Pérez Datsira\n",
    "- Jeongyun Lee\n",
    "\n",
    "\n",
    "## Problem 2\n",
    "Let’s assume a CCMP (Cipher Block Chaining Message) with 8 bits length block. The counter blocks are computed\n",
    "as follows:\n",
    "- ctr(0) = key >> 2\n",
    "- ctr(i) = ctr(i - 1) >> 2 ⊕ 0x53, i > 0\n",
    "\n",
    "where (>>) is a circular shift to the right and (⊕) is a XOR operation. Consider:\n",
    "* key = 0x22\n",
    "* information = 0x0001020304\n",
    "* AES as a XOR operation\n",
    "\n",
    "Probe that the ciphered information is **0xAA522FB151** and its corresponding MIC is **0x26**.\n",
    "Check that the same schema also works as a decipher."
   ]
  },
  {
   "cell_type": "code",
   "execution_count": 3,
   "id": "satellite-track",
   "metadata": {},
   "outputs": [],
   "source": [
    "blockLength = 8\n",
    "x = 0x53\n",
    "\n",
    "key = 0x22\n",
    "information = 0x0001020304\n",
    "informationArray = [0x00,0x01,0x02,0x03,0x04]\n",
    "\n",
    "cipheredInformation = 0xAA522FB151\n",
    "MIC = 0x26\n",
    "\n",
    "shiftBy = 1\n",
    "IV = int('00000000', 2)"
   ]
  },
  {
   "cell_type": "code",
   "execution_count": 4,
   "id": "alpha-jumping",
   "metadata": {},
   "outputs": [
    {
     "name": "stdout",
     "output_type": "stream",
     "text": [
      "\u001b[1m          Key:  \u001b[0m 34\n",
      "\u001b[1m         Info:  \u001b[0m 16909060\n",
      "\u001b[1m   Info array:  \u001b[0m [0, 1, 2, 3, 4]\n",
      "\u001b[1m          MIC:  \u001b[0m 38\n",
      "\u001b[1mCiphered info:  \u001b[0m 731523297617\n",
      "\u001b[1m           IV:  \u001b[0m 00000000\n",
      "\u001b[1m            x:  \u001b[0m 83\n",
      "\u001b[1m Block length:  \u001b[0m 8\n",
      "\u001b[1m     Shift by:  \u001b[0m 1\n"
     ]
    }
   ],
   "source": [
    "print(\"\\033[1m{0}\\033[0m {1}\"    .format(\"          Key:  \", key))\n",
    "print(\"\\033[1m{0}\\033[0m {1}\"    .format(\"         Info:  \", information))\n",
    "print(\"\\033[1m{0}\\033[0m {1}\"    .format(\"   Info array:  \", informationArray))\n",
    "print(\"\\033[1m{0}\\033[0m {1}\"    .format(\"          MIC:  \", MIC))\n",
    "print(\"\\033[1m{0}\\033[0m {1}\"    .format(\"Ciphered info:  \", cipheredInformation))\n",
    "print(\"\\033[1m{0}\\033[0m {1:08b}\".format(\"           IV:  \", IV))\n",
    "print(\"\\033[1m{0}\\033[0m {1}\"    .format(\"            x:  \", x))\n",
    "print(\"\\033[1m{0}\\033[0m {1}\"    .format(\" Block length:  \", blockLength))\n",
    "print(\"\\033[1m{0}\\033[0m {1}\"    .format(\"     Shift by:  \", shiftBy))"
   ]
  },
  {
   "cell_type": "markdown",
   "id": "recovered-algebra",
   "metadata": {},
   "source": [
    "## Utils\n",
    "### Circular shift right\n",
    "This function performs a bitwise rotation assuming that the bits are rotated as if the left and right ends of the register were joined (circular ratation)."
   ]
  },
  {
   "cell_type": "code",
   "execution_count": 5,
   "id": "rural-valley",
   "metadata": {},
   "outputs": [],
   "source": [
    "def circShift(val):\n",
    "    tmp = val & shiftBy\n",
    "    return (val >> shiftBy) | (tmp << (blockLength - shiftBy))"
   ]
  },
  {
   "cell_type": "markdown",
   "id": "multiple-flashing",
   "metadata": {},
   "source": [
    "### CTR (AES block cipher mode)\n"
   ]
  },
  {
   "cell_type": "code",
   "execution_count": 6,
   "id": "departmental-antibody",
   "metadata": {},
   "outputs": [],
   "source": [
    "def ctr(val):\n",
    "    ctr = []\n",
    "    for i in range(0, 5):\n",
    "        if (i == 0):\n",
    "            tmp = circShift(circShift(val))\n",
    "        else:\n",
    "            tmp = circShift(circShift(ctr[i - 1])) ^ x # XOR operation\n",
    "        ctr.append(tmp)\n",
    "    return ctr"
   ]
  },
  {
   "cell_type": "markdown",
   "id": "purple-latter",
   "metadata": {},
   "source": [
    "## Problem execution\n",
    "### Calculation CTR"
   ]
  },
  {
   "cell_type": "code",
   "execution_count": 7,
   "id": "actual-qatar",
   "metadata": {},
   "outputs": [
    {
     "name": "stdout",
     "output_type": "stream",
     "text": [
      "[136, 113, 15, 144, 119]\n",
      "10001000 01110001 00001111 10010000 01110111 "
     ]
    }
   ],
   "source": [
    "CTR = ctr(key)\n",
    "print(CTR)\n",
    "for v in CTR: print(\"{0:08b} \".format(v), end='')"
   ]
  },
  {
   "cell_type": "markdown",
   "id": "mature-webcam",
   "metadata": {},
   "source": [
    "### Data cyphering\n",
    "Applying the CTR and the AES key into a XOR operation, the result of which will reach another XOR operation with each block of the corresponding data."
   ]
  },
  {
   "cell_type": "code",
   "execution_count": 8,
   "id": "original-plumbing",
   "metadata": {},
   "outputs": [
    {
     "name": "stdout",
     "output_type": "stream",
     "text": [
      "10101010 01010010 00101111 10110001 01010001 "
     ]
    }
   ],
   "source": [
    "cyphered = []\n",
    "\n",
    "for i in range(len(CTR)):\n",
    "  tmp = informationArray[i] ^ (CTR[i] ^ key)\n",
    "  cyphered.append(tmp)\n",
    "\n",
    "for v in cyphered: print(\"{0:08b} \".format(v), end='')"
   ]
  },
  {
   "cell_type": "markdown",
   "id": "entire-death",
   "metadata": {},
   "source": [
    "## MIC calculation (checksum)\n",
    "MIC results from the CBC taking into account both the IV and the key in the computation. But, the result for the last block should be equal to the desired MIC."
   ]
  },
  {
   "cell_type": "code",
   "execution_count": 9,
   "id": "minus-imaging",
   "metadata": {},
   "outputs": [
    {
     "name": "stdout",
     "output_type": "stream",
     "text": [
      "00100010 00000001 00100001 00000000 00100110 "
     ]
    }
   ],
   "source": [
    "mic = []\n",
    "\n",
    "firstBlock = informationArray[0] ^ IV ^ key\n",
    "mic. append(firstBlock)\n",
    "\n",
    "for i in range(1, len(informationArray)):\n",
    "    tmp = informationArray[i] ^ mic[i - 1] ^ key\n",
    "    mic.append(tmp)\n",
    "\n",
    "for v in mic: print(\"{0:08b} \".format(v), end='')  "
   ]
  },
  {
   "cell_type": "markdown",
   "id": "certified-jumping",
   "metadata": {},
   "source": [
    "## Data decyphering\n",
    "Applying an XOR operation between the cyphered data, the CTR and the AES key."
   ]
  },
  {
   "cell_type": "code",
   "execution_count": 10,
   "id": "sound-wilson",
   "metadata": {},
   "outputs": [
    {
     "name": "stdout",
     "output_type": "stream",
     "text": [
      "00000000 00000001 00000010 00000011 00000100 "
     ]
    }
   ],
   "source": [
    "decyphered = []\n",
    "\n",
    "for i in range(len(CTR)):\n",
    "    tmp = cyphered[i] ^(CTR[i] ^ key)\n",
    "    decyphered.append(tmp)\n",
    "\n",
    "for v in decyphered: print(\"{0:08b} \".format(v), end='')    "
   ]
  },
  {
   "cell_type": "markdown",
   "id": "federal-prompt",
   "metadata": {},
   "source": [
    "## Result comparison\n",
    "Once all the computations are done, let's focus on what results were obtained since the aim is to get as descyphered the same original information provided as input data."
   ]
  },
  {
   "cell_type": "code",
   "execution_count": null,
   "id": "intellectual-jerusalem",
   "metadata": {},
   "outputs": [],
   "source": []
  }
 ],
 "metadata": {
  "kernelspec": {
   "display_name": "Python 3",
   "language": "python",
   "name": "python3"
  },
  "language_info": {
   "codemirror_mode": {
    "name": "ipython",
    "version": 3
   },
   "file_extension": ".py",
   "mimetype": "text/x-python",
   "name": "python",
   "nbconvert_exporter": "python",
   "pygments_lexer": "ipython3",
   "version": "3.9.5"
  }
 },
 "nbformat": 4,
 "nbformat_minor": 5
}
